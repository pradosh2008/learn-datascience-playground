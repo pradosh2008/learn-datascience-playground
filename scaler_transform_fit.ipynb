{
  "nbformat": 4,
  "nbformat_minor": 0,
  "metadata": {
    "colab": {
      "provenance": [],
      "authorship_tag": "ABX9TyNjfNMy+SFRZlZXBW7usiHs",
      "include_colab_link": true
    },
    "kernelspec": {
      "name": "python3",
      "display_name": "Python 3"
    },
    "language_info": {
      "name": "python"
    }
  },
  "cells": [
    {
      "cell_type": "markdown",
      "metadata": {
        "id": "view-in-github",
        "colab_type": "text"
      },
      "source": [
        "<a href=\"https://colab.research.google.com/github/pradosh2008/learn-datascience-playground/blob/main/pdf_pmf_cdf.ipynb\" target=\"_parent\"><img src=\"https://colab.research.google.com/assets/colab-badge.svg\" alt=\"Open In Colab\"/></a>"
      ]
    },
    {
      "cell_type": "code",
      "execution_count": 1,
      "metadata": {
        "id": "c8u051NtyRzx",
        "outputId": "934d73c0-913a-4249-ecca-431dc057195e",
        "colab": {
          "base_uri": "https://localhost:8080/"
        }
      },
      "outputs": [
        {
          "output_type": "stream",
          "name": "stdout",
          "text": [
            "Original Data:\n",
            "   Age  Salary  Experience\n",
            "0   25   50000           2\n",
            "1   30   60000           4\n",
            "2   35   70000           6\n",
            "3   40   80000           8\n",
            "4   45   90000          10\n",
            "5   50  100000          12\n",
            "\n",
            "Descriptive Statistics:\n",
            "             Age         Salary  Experience\n",
            "count   6.000000       6.000000    6.000000\n",
            "mean   37.500000   75000.000000    7.000000\n",
            "std     9.354143   18708.286934    3.741657\n",
            "min    25.000000   50000.000000    2.000000\n",
            "25%    31.250000   62500.000000    4.500000\n",
            "50%    37.500000   75000.000000    7.000000\n",
            "75%    43.750000   87500.000000    9.500000\n",
            "max    50.000000  100000.000000   12.000000\n",
            "\n",
            "Computed Means: [3.75e+01 7.50e+04 7.00e+00]\n",
            "Computed Standard Deviations: [8.53912564e+00 1.70782513e+04 3.41565026e+00]\n",
            "\n",
            "Scaled Data:\n",
            "       Age   Salary  Experience\n",
            "0 -1.46385 -1.46385    -1.46385\n",
            "1 -0.87831 -0.87831    -0.87831\n",
            "2 -0.29277 -0.29277    -0.29277\n",
            "3  0.29277  0.29277     0.29277\n",
            "4  0.87831  0.87831     0.87831\n",
            "5  1.46385  1.46385     1.46385\n",
            "\n",
            "Scaled Data Statistics:\n",
            "            Age        Salary    Experience\n",
            "count  6.000000  6.000000e+00  6.000000e+00\n",
            "mean   0.000000 -3.700743e-17 -3.700743e-17\n",
            "std    1.095445  1.095445e+00  1.095445e+00\n",
            "min   -1.463850 -1.463850e+00 -1.463850e+00\n",
            "25%   -0.731925 -7.319251e-01 -7.319251e-01\n",
            "50%    0.000000  0.000000e+00  0.000000e+00\n",
            "75%    0.731925  7.319251e-01  7.319251e-01\n",
            "max    1.463850  1.463850e+00  1.463850e+00\n"
          ]
        }
      ],
      "source": [
        "# Import necessary libraries\n",
        "import numpy as np\n",
        "from sklearn.preprocessing import StandardScaler\n",
        "import pandas as pd\n",
        "\n",
        "# Create sample data\n",
        "data = {\n",
        "    'Age': [25, 30, 35, 40, 45, 50],\n",
        "    'Salary': [50000, 60000, 70000, 80000, 90000, 100000],\n",
        "    'Experience': [2, 4, 6, 8, 10, 12]\n",
        "}\n",
        "\n",
        "df = pd.DataFrame(data)\n",
        "print(\"Original Data:\")\n",
        "print(df)\n",
        "print(\"\\nDescriptive Statistics:\")\n",
        "print(df.describe())\n",
        "\n",
        "# Initialize StandardScaler\n",
        "scaler = StandardScaler()\n",
        "\n",
        "# Fit the scaler to the data (computes mean and std)\n",
        "scaler.fit(df)\n",
        "\n",
        "# Show the computed means and standard deviations\n",
        "print(\"\\nComputed Means:\", scaler.mean_)\n",
        "print(\"Computed Standard Deviations:\", scaler.scale_)\n",
        "\n",
        "# Transform the data\n",
        "scaled_data = scaler.transform(df)\n",
        "\n",
        "# Convert to DataFrame for better visualization\n",
        "scaled_df = pd.DataFrame(scaled_data, columns=df.columns)\n",
        "print(\"\\nScaled Data:\")\n",
        "print(scaled_df)\n",
        "print(\"\\nScaled Data Statistics:\")\n",
        "print(scaled_df.describe())\n",
        "\n",
        "# Alternatively, use fit_transform to do both steps at once\n",
        "scaled_data_combined = scaler.fit_transform(df)"
      ]
    },
    {
      "cell_type": "markdown",
      "source": [
        "# StandardScaler with Train-Test Split for Linear Regression\n",
        "\n",
        "This notebook demonstrates proper usage of `StandardScaler` with train-test split for linear regression."
      ],
      "metadata": {
        "id": "culUK2QJRuq1"
      }
    },
    {
      "cell_type": "code",
      "source": [
        "## 1. Import Required Libraries\n",
        "\n",
        "import numpy as np\n",
        "import pandas as pd\n",
        "import matplotlib.pyplot as plt\n",
        "from sklearn.model_selection import train_test_split\n",
        "from sklearn.preprocessing import StandardScaler\n",
        "from sklearn.linear_model import LinearRegression\n",
        "from sklearn.metrics import mean_squared_error"
      ],
      "metadata": {
        "id": "FglC7ekxSDO7"
      },
      "execution_count": 4,
      "outputs": []
    },
    {
      "cell_type": "code",
      "source": [
        "data = {\n",
        "    'Size': [1200, 1500, 1800, 2000, 2200, 2400, 2600, 2800, 3000, 3200],\n",
        "    'Bedrooms': [2, 3, 3, 4, 4, 4, 5, 5, 5, 6],\n",
        "    'Age': [10, 5, 8, 3, 1, 2, 4, 7, 9, 6],\n",
        "    'Price': [250000, 350000, 400000, 450000, 500000, 550000, 600000, 650000, 700000, 750000]\n",
        "}\n",
        "\n",
        "df = pd.DataFrame(data)\n",
        "X = df[['Size', 'Bedrooms', 'Age']]  # Features\n",
        "y = df['Price']  # Target"
      ],
      "metadata": {
        "id": "NnOtRiYlSGJR"
      },
      "execution_count": 2,
      "outputs": []
    },
    {
      "cell_type": "code",
      "source": [
        "X_train, X_test, y_train, y_test = train_test_split(X, y, test_size=0.2, random_state=42)\n",
        "\n",
        "print(\"Training Data Shape:\", X_train.shape)\n",
        "print(\"Test Data Shape:\", X_test.shape)"
      ],
      "metadata": {
        "id": "c9AK82eFSJpa",
        "outputId": "18997f53-d51b-4509-df64-0c6ed955551e",
        "colab": {
          "base_uri": "https://localhost:8080/"
        }
      },
      "execution_count": 5,
      "outputs": [
        {
          "output_type": "stream",
          "name": "stdout",
          "text": [
            "Training Data Shape: (8, 3)\n",
            "Test Data Shape: (2, 3)\n"
          ]
        }
      ]
    },
    {
      "cell_type": "code",
      "source": [
        "# Initialize scaler\n",
        "scaler = StandardScaler()\n",
        "\n",
        "# Fit and transform training data\n",
        "X_train_scaled = scaler.fit_transform(X_train)\n",
        "\n",
        "# Transform test data (using training parameters)\n",
        "X_test_scaled = scaler.transform(X_test)\n",
        "\n",
        "# Convert to DataFrames for visualization\n",
        "train_scaled_df = pd.DataFrame(X_train_scaled, columns=X_train.columns)\n",
        "test_scaled_df = pd.DataFrame(X_test_scaled, columns=X_test.columns)"
      ],
      "metadata": {
        "id": "uv7K-Kr2STUJ"
      },
      "execution_count": 6,
      "outputs": []
    },
    {
      "cell_type": "code",
      "source": [
        "print(\"Original Training Data Statistics:\")\n",
        "print(X_train.describe())\n",
        "\n",
        "print(\"\\nScaled Training Data Statistics:\")\n",
        "print(train_scaled_df.describe())\n",
        "\n",
        "print(\"\\nScaled Test Data Statistics:\")\n",
        "print(test_scaled_df.describe())"
      ],
      "metadata": {
        "id": "qDeMyPz0SbcV",
        "outputId": "5c895177-38ee-43fc-d164-32e6ae558a5b",
        "colab": {
          "base_uri": "https://localhost:8080/"
        }
      },
      "execution_count": 7,
      "outputs": [
        {
          "output_type": "stream",
          "name": "stdout",
          "text": [
            "Original Training Data Statistics:\n",
            "              Size  Bedrooms        Age\n",
            "count     8.000000  8.000000   8.000000\n",
            "mean   2275.000000  4.125000   5.125000\n",
            "std     622.781778  1.246423   3.136764\n",
            "min    1200.000000  2.000000   1.000000\n",
            "25%    1950.000000  3.750000   2.750000\n",
            "50%    2300.000000  4.000000   5.000000\n",
            "75%    2650.000000  5.000000   7.250000\n",
            "max    3200.000000  6.000000  10.000000\n",
            "\n",
            "Scaled Training Data Statistics:\n",
            "           Size      Bedrooms           Age\n",
            "count  8.000000  8.000000e+00  8.000000e+00\n",
            "mean   0.000000  5.551115e-17  5.551115e-17\n",
            "std    1.069045  1.069045e+00  1.069045e+00\n",
            "min   -1.845307 -1.822591e+00 -1.405847e+00\n",
            "25%   -0.557883 -3.216338e-01 -8.094272e-01\n",
            "50%    0.042914 -1.072113e-01 -4.260143e-02\n",
            "75%    0.643712  7.504788e-01  7.242243e-01\n",
            "max    1.587822  1.608169e+00  1.661456e+00\n",
            "\n",
            "Scaled Test Data Statistics:\n",
            "           Size  Bedrooms       Age\n",
            "count  2.000000  2.000000  2.000000\n",
            "mean  -0.042914 -0.107211  0.639021\n",
            "std    1.820691  1.212957  0.963960\n",
            "min   -1.330337 -0.964901 -0.042601\n",
            "25%   -0.686626 -0.536056  0.298210\n",
            "50%   -0.042914 -0.107211  0.639021\n",
            "75%    0.600798  0.321634  0.979833\n",
            "max    1.244509  0.750479  1.320644\n"
          ]
        }
      ]
    }
  ]
}
