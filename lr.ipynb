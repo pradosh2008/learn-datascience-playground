created this for linear regression  tutorial
